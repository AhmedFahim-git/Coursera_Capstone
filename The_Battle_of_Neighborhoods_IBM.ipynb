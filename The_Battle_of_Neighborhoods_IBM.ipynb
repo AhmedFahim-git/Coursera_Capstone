{
  "nbformat": 4,
  "nbformat_minor": 0,
  "metadata": {
    "colab": {
      "name": "The_Battle_of_Neighborhoods_IBM.ipynb",
      "provenance": [],
      "collapsed_sections": [],
      "authorship_tag": "ABX9TyM7G2Kc2eVQe6MYg+03EB8K",
      "include_colab_link": true
    },
    "kernelspec": {
      "name": "python3",
      "display_name": "Python 3"
    },
    "language_info": {
      "name": "python"
    }
  },
  "cells": [
    {
      "cell_type": "markdown",
      "metadata": {
        "id": "view-in-github",
        "colab_type": "text"
      },
      "source": [
        "<a href=\"https://colab.research.google.com/github/AhmedFahim-git/Coursera_Capstone/blob/main/The_Battle_of_Neighborhoods_IBM.ipynb\" target=\"_parent\"><img src=\"https://colab.research.google.com/assets/colab-badge.svg\" alt=\"Open In Colab\"/></a>"
      ]
    },
    {
      "cell_type": "markdown",
      "metadata": {
        "id": "k6bjDyFekB10"
      },
      "source": [
        "# The Battle of Neighborhoods: Best location for new coffee shop in Toronto\n",
        "\n",
        "## Business Understanding\n",
        "\n",
        "Mr. X is a businessman and he would lke to open a coffee shop in Toronto. He knows that coffee shops are popular in Toronto; however, he doesn't what would be the best location for a new one. And as such, we are tasked with finding the best location for his first coffee shop.\n",
        "\n",
        "## Analytic Approach\n",
        "\n",
        "There are many ways to go about addressing the problem. The simplest ones are given below along with their assumptions and drawbacks:\n",
        "\n",
        "\n",
        "1.   We could locate a place with very few coffee shops and build a new coffee shop there. This works on the assumption that if we make a coffee shop in a place where there aren't many now, there will be less competition, allowing our new business to flourish. However, this method also faces a drawback that the reason behind the scarcity of coffee shops in the location might be that the people living there just wasn't interested in coffee shops. In that case, if we were to make a coffee shop in that location we wouldn't get many customers.\n",
        "\n",
        "2.   We could locate a place with many coffee shops and build a new coffee shop there. This works on the assumption that the abundance of coffee shops in that location indicate that people there are interested in coffee shops so there will be large customer base there. However, this method also faces a drawback that the abundance of similar venues in vicinity will also lead to very serious competition.\n",
        "\n",
        "However, here we are going to use a different strategy. First of all we are going to predict the demand of coffee shop in a location from the demographic information and the venues near its vicinity. Then we are going to find the locations with fewer coffee shops than predicted; these are the locations we are going to build the new coffee shop.\n",
        "\n",
        "First of all we are going to find which neighborhood to build new coffee shop. And then we are going to try to find a more preciese location of where to set up  the coffee shop.\n",
        "\n",
        "## Data Requirements\n",
        "\n",
        "In order to carry out this analysis we need the location data for all the neighborhoods and their demographics. We can find both these dataset in the [Toronto Open Data](https://open.toronto.ca/) portal. The location dataset is given [here](https://open.toronto.ca/dataset/neighbourhoods/) and the neighborhood profies are given [here](https://open.toronto.ca/dataset/neighbourhood-profiles/)."
      ]
    }
  ]
}